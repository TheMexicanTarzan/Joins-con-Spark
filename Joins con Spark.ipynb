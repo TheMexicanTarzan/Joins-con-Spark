{
  "cells": [
    {
      "cell_type": "markdown",
      "metadata": {
        "id": "view-in-github"
      },
      "source": [
        "<a href=\"https://colab.research.google.com/github/robertoarturomc/ProgramacionConcurrente/blob/main/27_Joins_con_Spark.ipynb\" target=\"_parent\"><img src=\"https://colab.research.google.com/assets/colab-badge.svg\" alt=\"Open In Colab\"/></a>"
      ]
    },
    {
      "cell_type": "markdown",
      "metadata": {
        "id": "8UQAJS17EEaI"
      },
      "source": [
        "# Joins con Spark\n"
      ]
    },
    {
      "cell_type": "code",
      "source": [
        "from pyspark.sql import SparkSession\n",
        "from pyspark.sql.functions import col, lit, to_timestamp\n",
        "from google.colab import drive\n"
      ],
      "metadata": {
        "id": "0dtuuRww-ekh"
      },
      "execution_count": null,
      "outputs": []
    },
    {
      "cell_type": "code",
      "source": [
        "drive.mount('/content/drive')"
      ],
      "metadata": {
        "colab": {
          "base_uri": "https://localhost:8080/"
        },
        "id": "LPcescyYNOJG",
        "outputId": "d88ac7a7-d84b-4a77-d546-626b023da03f"
      },
      "execution_count": null,
      "outputs": [
        {
          "output_type": "stream",
          "name": "stdout",
          "text": [
            "Drive already mounted at /content/drive; to attempt to forcibly remount, call drive.mount(\"/content/drive\", force_remount=True).\n"
          ]
        }
      ]
    },
    {
      "cell_type": "code",
      "source": [
        "path = '/content/drive/My Drive/Progra Concurrente/'"
      ],
      "metadata": {
        "id": "yZnMCSGtLef_"
      },
      "execution_count": null,
      "outputs": []
    },
    {
      "cell_type": "code",
      "source": [
        "spark = SparkSession.builder.master(\"local[*]\").getOrCreate()\n",
        "spark"
      ],
      "metadata": {
        "colab": {
          "base_uri": "https://localhost:8080/",
          "height": 222
        },
        "id": "X2lSnbMu90R9",
        "outputId": "b6e8fcee-4664-4ace-9f43-db77d8cf3fa7"
      },
      "execution_count": null,
      "outputs": [
        {
          "output_type": "execute_result",
          "data": {
            "text/plain": [
              "<pyspark.sql.session.SparkSession at 0x7d3a6dfd8160>"
            ],
            "text/html": [
              "\n",
              "            <div>\n",
              "                <p><b>SparkSession - in-memory</b></p>\n",
              "                \n",
              "        <div>\n",
              "            <p><b>SparkContext</b></p>\n",
              "\n",
              "            <p><a href=\"http://0aee01c02eee:4040\">Spark UI</a></p>\n",
              "\n",
              "            <dl>\n",
              "              <dt>Version</dt>\n",
              "                <dd><code>v3.5.3</code></dd>\n",
              "              <dt>Master</dt>\n",
              "                <dd><code>local[*]</code></dd>\n",
              "              <dt>AppName</dt>\n",
              "                <dd><code>pyspark-shell</code></dd>\n",
              "            </dl>\n",
              "        </div>\n",
              "        \n",
              "            </div>\n",
              "        "
            ]
          },
          "metadata": {},
          "execution_count": 27
        }
      ]
    },
    {
      "cell_type": "markdown",
      "source": [
        "Un Join es una operación que permite combinar datos de dos o más tablas en una sola, basándose en una relación entre ellas. Usualmente, esta relación se establece a través de una columna en común entre las tablas.\n",
        "\n",
        "El Join permite acceder y manipular datos que están distribuidos en varias tablas de manera conjunta, obteniendo así resultados más complejos y completos.\n",
        "\n",
        "Vamos a leer tres tablas; estas se encuentran en este [enlace de Kaggle](https://www.kaggle.com/datasets/svbstan/sales-product-and-customer-insight-repository)"
      ],
      "metadata": {
        "id": "o2haTcTjDZPa"
      }
    },
    {
      "cell_type": "code",
      "source": [
        "customer = spark.read.csv(path + 'customer_profile_dataset.csv', header=True)\n",
        "customer.show(5)"
      ],
      "metadata": {
        "colab": {
          "base_uri": "https://localhost:8080/"
        },
        "id": "QT5siaoqDq1V",
        "outputId": "21fb32e1-24d1-4a8c-9aa4-daedd84ddc69"
      },
      "execution_count": null,
      "outputs": [
        {
          "output_type": "stream",
          "name": "stdout",
          "text": [
            "+-----------+----------+---------+------+-------------------+--------------------+------------+-------------------+-------------+-----------+-----+--------+\n",
            "|customer_id|first_name|last_name|gender|      date_of_birth|               email|phone_number|        signup_date|      address|       city|state|zip_code|\n",
            "+-----------+----------+---------+------+-------------------+--------------------+------------+-------------------+-------------+-----------+-----+--------+\n",
            "|          1|    Robert|    Smith|Female|1994-06-14 21:40:27|jane.davis1@mail.com|634-106-4981|2016-10-16 17:23:25| 8465 Main St|San Antonio|   CA|   35566|\n",
            "|          2|     Emily|   Garcia|Female|1989-09-21 17:56:31|robert.williams2@...|386-635-5998|2021-04-04 14:24:06|  305 Main St|   New York|   AZ|   23187|\n",
            "|          3|   Jessica|    Brown|  Male|1984-01-21 21:43:13|emily.davis3@mail...|627-341-5213|2018-04-22 04:51:57|  5725 Oak St|    Chicago|   AZ|   99188|\n",
            "|          4|   Michael|    Brown|  Male|1986-02-06 13:09:53|jessica.williams4...|126-662-8981|2018-07-06 17:45:14|  8468 Oak St|Los Angeles|   TX|   77421|\n",
            "|          5|    Robert|    Jones|  Male|1996-12-05 05:10:11|robert.martinez5@...|758-947-2802|2018-03-11 01:43:10|2820 Maple St|    Chicago|   TX|   36281|\n",
            "+-----------+----------+---------+------+-------------------+--------------------+------------+-------------------+-------------+-----------+-----+--------+\n",
            "only showing top 5 rows\n",
            "\n"
          ]
        }
      ]
    },
    {
      "cell_type": "code",
      "source": [
        "products = spark.read.csv(path +'products_dataset.csv', header=True)\n",
        "products.show(5)"
      ],
      "metadata": {
        "colab": {
          "base_uri": "https://localhost:8080/"
        },
        "id": "e2siPRUfFWOH",
        "outputId": "49351de1-3cfa-4aa8-e990-b4c1fb697b22"
      },
      "execution_count": null,
      "outputs": [
        {
          "output_type": "stream",
          "name": "stdout",
          "text": [
            "+----------+------------+--------+--------------+------+--------------------+\n",
            "|product_id|product_name|category|price_per_unit| brand| product_description|\n",
            "+----------+------------+--------+--------------+------+--------------------+\n",
            "|         1|      Butter|   Dairy|         28.58|BrandB|Description for Rice|\n",
            "|         2|      Butter|   Meats|         22.66|BrandB|Description for B...|\n",
            "|         3|        Milk|   Meats|         26.52|BrandE|Description for B...|\n",
            "|         4|      Banana|  Grains|         26.12|BrandB|Description for A...|\n",
            "|         5|        Rice|  Fruits|         21.94|BrandD|Description for B...|\n",
            "+----------+------------+--------+--------------+------+--------------------+\n",
            "only showing top 5 rows\n",
            "\n"
          ]
        }
      ]
    },
    {
      "cell_type": "code",
      "source": [
        "purchase = spark.read.csv(path + 'purchase_history_dataset.csv', header=True)\n",
        "purchase.show(5)"
      ],
      "metadata": {
        "colab": {
          "base_uri": "https://localhost:8080/"
        },
        "id": "UMpzJfv5F8fz",
        "outputId": "62e16d08-78b8-411e-a212-2e6fffaa601f"
      },
      "execution_count": null,
      "outputs": [
        {
          "output_type": "stream",
          "name": "stdout",
          "text": [
            "+-----------+-----------+----------+-------------------+--------+------------------+\n",
            "|purchase_id|customer_id|product_id|      purchase_date|quantity|      total_amount|\n",
            "+-----------+-----------+----------+-------------------+--------+------------------+\n",
            "|          1|          1|        42|2018-04-15 14:08:01|       3| 37.64207365077783|\n",
            "|          2|          1|       138|2022-07-10 23:33:47|       4| 70.24710587172727|\n",
            "|          3|          1|       403|2021-12-31 03:53:33|       3| 89.16889585975464|\n",
            "|          4|          1|       193|2017-01-14 01:25:11|       2| 59.70505931112876|\n",
            "|          5|          1|        26|2018-04-06 11:01:06|       3|101.77886387225126|\n",
            "+-----------+-----------+----------+-------------------+--------+------------------+\n",
            "only showing top 5 rows\n",
            "\n"
          ]
        }
      ]
    },
    {
      "cell_type": "markdown",
      "source": [
        "Hacer un Join en Spark es parecido a como lo haríamos en SQL...o Pandas, dplyr y la mayoría de las librerías que has usado para manipular datos.\n",
        "\n",
        "```\n",
        "df.join(df2, df.column == df2.column, how={'inner'})\n",
        "```\n",
        "\n",
        "\n"
      ],
      "metadata": {
        "id": "mCYxmlpxGLoU"
      }
    },
    {
      "cell_type": "code",
      "source": [
        "print((customer.count(), len(customer.columns)))"
      ],
      "metadata": {
        "colab": {
          "base_uri": "https://localhost:8080/"
        },
        "id": "wK5SpBJnH5Vt",
        "outputId": "8f3d3af5-b7b0-4125-d615-724bca27f64f"
      },
      "execution_count": null,
      "outputs": [
        {
          "output_type": "stream",
          "name": "stdout",
          "text": [
            "(1000, 12)\n"
          ]
        }
      ]
    },
    {
      "cell_type": "code",
      "source": [
        "print((products.count(), len(products.columns)))"
      ],
      "metadata": {
        "colab": {
          "base_uri": "https://localhost:8080/"
        },
        "id": "l-maUBN-Hwj7",
        "outputId": "040e7e7f-76df-40d0-d1ba-e280750167ff"
      },
      "execution_count": null,
      "outputs": [
        {
          "output_type": "stream",
          "name": "stdout",
          "text": [
            "(500, 6)\n"
          ]
        }
      ]
    },
    {
      "cell_type": "code",
      "source": [
        "print((purchase.count(), len(purchase.columns)))"
      ],
      "metadata": {
        "id": "_OQRgd_BGAaQ",
        "colab": {
          "base_uri": "https://localhost:8080/"
        },
        "outputId": "39653d8b-bfab-4126-ba65-90209f7c0d0c"
      },
      "execution_count": null,
      "outputs": [
        {
          "output_type": "stream",
          "name": "stdout",
          "text": [
            "(10308, 6)\n"
          ]
        }
      ]
    },
    {
      "cell_type": "markdown",
      "source": [
        "## Tipos de Joins\n",
        "\n",
        "### INNER JOIN\n",
        "\n",
        "Mantiene los datos en común en ambas tablas."
      ],
      "metadata": {
        "id": "dMM5PeDIIGYe"
      }
    },
    {
      "cell_type": "code",
      "source": [
        "purchase_inner_products = purchase.join(products, purchase.product_id == products.product_id, how='inner')\n",
        "purchase_inner_products.show()"
      ],
      "metadata": {
        "colab": {
          "base_uri": "https://localhost:8080/"
        },
        "id": "ndf_NoeeH1nD",
        "outputId": "e845cd65-e0f2-4599-eab1-6cd57f383320"
      },
      "execution_count": null,
      "outputs": [
        {
          "output_type": "stream",
          "name": "stdout",
          "text": [
            "+-----------+-----------+----------+-------------------+--------+------------------+----------+------------+--------+--------------+------+--------------------+\n",
            "|purchase_id|customer_id|product_id|      purchase_date|quantity|      total_amount|product_id|product_name|category|price_per_unit| brand| product_description|\n",
            "+-----------+-----------+----------+-------------------+--------+------------------+----------+------------+--------+--------------+------+--------------------+\n",
            "|          1|          1|        42|2018-04-15 14:08:01|       3| 37.64207365077783|        42|        Milk|  Fruits|         21.63|BrandD|Description for B...|\n",
            "|          2|          1|       138|2022-07-10 23:33:47|       4| 70.24710587172727|       138|       Bread|  Grains|         25.98|BrandE|Description for B...|\n",
            "|          3|          1|       403|2021-12-31 03:53:33|       3| 89.16889585975464|       403|       Bread|   Meats|         24.01|BrandD|Description for B...|\n",
            "|          4|          1|       193|2017-01-14 01:25:11|       2| 59.70505931112876|       193|       Bread|  Grains|         29.67|BrandC|Description for Rice|\n",
            "|          5|          1|        26|2018-04-06 11:01:06|       3|101.77886387225126|        26|       Bread|   Meats|         20.58|BrandE|Description for B...|\n",
            "|          6|          1|       357|2020-02-04 10:28:26|       5|167.38440154387484|       357|       Pasta|  Grains|          5.56|BrandB|Description for Milk|\n",
            "|          7|          1|       192|2023-09-21 08:52:12|       5|201.98834253689253|       192|      Butter|   Meats|         26.46|BrandE|Description for P...|\n",
            "|          8|          2|       225|2021-07-31 11:17:50|       5| 82.87969346438778|       225|      Cheese|   Meats|          3.21|BrandB|Description for Eggs|\n",
            "|          9|          2|       218|2023-11-03 08:21:19|       5|230.93891243311947|       218|        Eggs|   Dairy|          12.6|BrandB|Description for C...|\n",
            "|         10|          2|       176|2022-12-30 01:32:06|       2| 41.32577291026815|       176|     Chicken|  Grains|         17.15|BrandA|Description for B...|\n",
            "|         11|          2|        14|2023-07-27 15:38:24|       1|49.407459133126494|        14|        Milk|  Fruits|          3.89|BrandB|Description for B...|\n",
            "|         12|          2|       444|2023-09-14 07:17:41|       2|39.661526868045016|       444|      Butter|  Fruits|          6.89|BrandE|Description for A...|\n",
            "|         13|          2|       150|2021-12-09 11:20:22|       3|30.630269229115196|       150|      Butter|  Grains|         22.39|BrandB|Description for C...|\n",
            "|         14|          2|        55|2022-12-19 10:28:44|       1| 42.61748689307072|        55|       Apple|   Meats|         23.58|BrandD|Description for A...|\n",
            "|         15|          2|       134|2021-10-22 21:46:22|       3|137.08249973105922|       134|        Rice|  Fruits|         23.98|BrandE|Description for C...|\n",
            "|         16|          2|       107|2022-07-31 10:35:19|       3|11.311573271738684|       107|        Milk|   Dairy|          5.65|BrandC|Description for C...|\n",
            "|         17|          2|       415|2023-03-20 14:08:32|       2|  91.3159788324202|       415|        Rice|  Grains|         24.08|BrandD|Description for Eggs|\n",
            "|         18|          2|       389|2022-11-01 10:16:21|       4| 182.2416562759003|       389|        Eggs|  Fruits|          1.72|BrandA|Description for B...|\n",
            "|         19|          2|       123|2022-11-24 03:14:17|       4| 99.92195439364824|       123|        Milk|   Dairy|         14.39|BrandB|Description for B...|\n",
            "|         20|          3|       459|2019-03-22 02:00:03|       3| 32.81843738399608|       459|      Banana|  Fruits|          9.43|BrandC|Description for B...|\n",
            "+-----------+-----------+----------+-------------------+--------+------------------+----------+------------+--------+--------------+------+--------------------+\n",
            "only showing top 20 rows\n",
            "\n"
          ]
        }
      ]
    },
    {
      "cell_type": "code",
      "source": [
        "print((purchase_inner_products.count(), len(purchase_inner_products.columns)))"
      ],
      "metadata": {
        "colab": {
          "base_uri": "https://localhost:8080/"
        },
        "id": "NBDjbLCEIe0G",
        "outputId": "7fdb746e-3e36-4597-f1fa-b91013e4ad20"
      },
      "execution_count": null,
      "outputs": [
        {
          "output_type": "stream",
          "name": "stdout",
          "text": [
            "(10308, 12)\n"
          ]
        }
      ]
    },
    {
      "cell_type": "markdown",
      "source": [
        "Como TODOS los productos de mi Dataset aparecían en mi tabla de compras y viceversa; además, *purchase* es una tabla más grande que *products*:\n",
        "\n",
        "$=> n(purchase) =  n(purchase\\_inner\\_products) $\n",
        "\n",
        "Pero a ver, vamos a filtrar antes mi tabla de purchase y mi tabla de productos."
      ],
      "metadata": {
        "id": "Ny5_DS0rIy0X"
      }
    },
    {
      "cell_type": "code",
      "source": [
        "purchase2 = purchase.withColumn('purchase_date', to_timestamp(col('purchase_date'), 'yyyy-MM-dd HH:mm:ss'))\\\n",
        "                    .filter(purchase[\"purchase_date\"] > lit(\"2022-01-01 00:00:00\"))\n",
        "\n",
        "purchase2.count()"
      ],
      "metadata": {
        "colab": {
          "base_uri": "https://localhost:8080/"
        },
        "id": "Gl8zjupzJVke",
        "outputId": "16f9fc7d-c140-4d9f-f3bf-774ae9342de4"
      },
      "execution_count": null,
      "outputs": [
        {
          "output_type": "execute_result",
          "data": {
            "text/plain": [
              "4849"
            ]
          },
          "metadata": {},
          "execution_count": 36
        }
      ]
    },
    {
      "cell_type": "code",
      "source": [
        "products2 = products.filter(products.category == 'Meats')\n",
        "products2.count()"
      ],
      "metadata": {
        "colab": {
          "base_uri": "https://localhost:8080/"
        },
        "id": "HEI-mUdmKo-2",
        "outputId": "5e6d2f5b-6156-4cb1-e6f6-4320d1a7c69b"
      },
      "execution_count": null,
      "outputs": [
        {
          "output_type": "execute_result",
          "data": {
            "text/plain": [
              "136"
            ]
          },
          "metadata": {},
          "execution_count": 37
        }
      ]
    },
    {
      "cell_type": "code",
      "source": [
        "purchase2_inner_products2 = purchase2.join(products2, purchase.product_id == products2.product_id, how='inner')\n",
        "purchase2_inner_products2.show()"
      ],
      "metadata": {
        "colab": {
          "base_uri": "https://localhost:8080/"
        },
        "id": "B80E1yAVIwHv",
        "outputId": "af898108-353f-4436-a4ef-28d54edd8f4c"
      },
      "execution_count": null,
      "outputs": [
        {
          "output_type": "stream",
          "name": "stdout",
          "text": [
            "+-----------+-----------+----------+-------------------+--------+------------------+----------+------------+--------+--------------+------+--------------------+\n",
            "|purchase_id|customer_id|product_id|      purchase_date|quantity|      total_amount|product_id|product_name|category|price_per_unit| brand| product_description|\n",
            "+-----------+-----------+----------+-------------------+--------+------------------+----------+------------+--------+--------------+------+--------------------+\n",
            "|          7|          1|       192|2023-09-21 08:52:12|       5|201.98834253689253|       192|      Butter|   Meats|         26.46|BrandE|Description for P...|\n",
            "|         14|          2|        55|2022-12-19 10:28:44|       1| 42.61748689307072|        55|       Apple|   Meats|         23.58|BrandD|Description for A...|\n",
            "|         35|          4|       305|2022-07-18 04:54:39|       1|14.453941727047198|       305|       Pasta|   Meats|          6.06|BrandD|Description for P...|\n",
            "|         44|          4|       199|2022-11-15 02:17:33|       4| 166.6255900137933|       199|       Pasta|   Meats|         26.53|BrandD|Description for C...|\n",
            "|         61|          6|       274|2022-04-20 00:51:20|       2|31.092000975080403|       274|      Butter|   Meats|         29.39|BrandD|Description for C...|\n",
            "|         87|          9|        45|2023-08-02 23:47:27|       1|37.304995121290666|        45|        Eggs|   Meats|         21.45|BrandB|Description for B...|\n",
            "|         90|          9|        80|2022-02-10 04:45:01|       3|  81.8958710266161|        80|      Cheese|   Meats|         11.56|BrandB|Description for C...|\n",
            "|         91|          9|        20|2023-05-30 21:06:38|       3| 59.09655674767954|        20|        Eggs|   Meats|           1.0|BrandB|Description for B...|\n",
            "|         92|          9|       326|2022-06-14 22:54:22|       2| 46.25658554395462|       326|      Cheese|   Meats|           2.8|BrandA|Description for C...|\n",
            "|         94|          9|        90|2023-02-19 23:17:23|       2| 88.92572564779805|        90|       Pasta|   Meats|          9.56|BrandD|Description for B...|\n",
            "|         95|          9|       143|2023-09-04 10:11:53|       3|50.849552631318176|       143|       Bread|   Meats|          9.54|BrandB|Description for C...|\n",
            "|         98|          9|       358|2022-03-25 00:53:39|       3|134.83950136452248|       358|        Rice|   Meats|          3.92|BrandC|Description for C...|\n",
            "|         99|          9|       391|2023-07-19 22:27:46|       2| 9.076375170846703|       391|      Cheese|   Meats|          5.06|BrandE|Description for P...|\n",
            "|        101|          9|        43|2023-10-21 05:33:49|       4| 130.6626874531452|        43|        Milk|   Meats|          7.03|BrandE|Description for B...|\n",
            "|        103|          9|       144|2023-01-08 06:25:35|       4|128.57617143806024|       144|        Rice|   Meats|         13.12|BrandD|Description for P...|\n",
            "|        104|          9|       304|2023-06-01 17:08:12|       4|13.789307608743943|       304|      Cheese|   Meats|          5.86|BrandB|Description for A...|\n",
            "|        109|         10|        26|2022-06-11 15:19:12|       4|39.611148524729266|        26|       Bread|   Meats|         20.58|BrandE|Description for B...|\n",
            "|        114|         10|       235|2022-02-18 10:09:08|       5| 152.6486191108172|       235|       Pasta|   Meats|         22.77|BrandB|Description for B...|\n",
            "|        128|         12|       442|2023-07-09 02:32:48|       3| 80.30907204477991|       442|     Chicken|   Meats|         17.87|BrandB|Description for P...|\n",
            "|        136|         13|       144|2022-08-16 04:36:31|       2| 96.08617222264105|       144|        Rice|   Meats|         13.12|BrandD|Description for P...|\n",
            "+-----------+-----------+----------+-------------------+--------+------------------+----------+------------+--------+--------------+------+--------------------+\n",
            "only showing top 20 rows\n",
            "\n"
          ]
        }
      ]
    },
    {
      "cell_type": "code",
      "source": [
        "purchase2_inner_products2.count()"
      ],
      "metadata": {
        "colab": {
          "base_uri": "https://localhost:8080/"
        },
        "id": "7ZqxEE05LEup",
        "outputId": "2c4c4dac-3d3e-4aeb-81cc-a8070e6da911"
      },
      "execution_count": null,
      "outputs": [
        {
          "output_type": "execute_result",
          "data": {
            "text/plain": [
              "1320"
            ]
          },
          "metadata": {},
          "execution_count": 39
        }
      ]
    },
    {
      "cell_type": "markdown",
      "source": [
        "Ahora sí; el número de la tabla con el INNER JOIN **NO** coincide con ninguna de mis dos tablas, puesto que sólo mantuve los registros en común."
      ],
      "metadata": {
        "id": "awmdPkpjLJd9"
      }
    },
    {
      "cell_type": "markdown",
      "source": [
        "### RIGHT / LEFT JOIN\n",
        "\n",
        "En un RIGHT JOIN mantengo todos los registros de la tabla derecha y sólo aquellos que también coinciden con los de la derecha. Por lo tanto, mientras haga el cruce con una columna que tenga valores únicos, el número de hileras de la tabla resultante es igual al de la tabla derecha.\n",
        "\n",
        "En un LEFT JOIN sucede justo lo contrario."
      ],
      "metadata": {
        "id": "HMpt7_-kLoT-"
      }
    },
    {
      "cell_type": "code",
      "source": [
        "purchase2_right_products2 = purchase2.join(products2, purchase.product_id == products2.product_id, how='right')\n",
        "purchase2_right_products2.show()"
      ],
      "metadata": {
        "colab": {
          "base_uri": "https://localhost:8080/"
        },
        "id": "jWWv2r9xLHaI",
        "outputId": "b76f857d-09fd-4319-d8c9-054a5ef32f7d"
      },
      "execution_count": null,
      "outputs": [
        {
          "output_type": "stream",
          "name": "stdout",
          "text": [
            "+-----------+-----------+----------+-------------------+--------+------------------+----------+------------+--------+--------------+------+--------------------+\n",
            "|purchase_id|customer_id|product_id|      purchase_date|quantity|      total_amount|product_id|product_name|category|price_per_unit| brand| product_description|\n",
            "+-----------+-----------+----------+-------------------+--------+------------------+----------+------------+--------+--------------+------+--------------------+\n",
            "|       5799|        568|         2|2023-02-06 01:22:45|       5|140.47481851783164|         2|      Butter|   Meats|         22.66|BrandB|Description for B...|\n",
            "|       5724|        561|         2|2022-07-21 18:15:54|       1|44.977080921698125|         2|      Butter|   Meats|         22.66|BrandB|Description for B...|\n",
            "|       4249|        413|         2|2022-07-30 15:05:28|       5|165.27179735866832|         2|      Butter|   Meats|         22.66|BrandB|Description for B...|\n",
            "|       4069|        393|         2|2022-02-13 07:58:23|       5|168.04441175708135|         2|      Butter|   Meats|         22.66|BrandB|Description for B...|\n",
            "|       3963|        381|         2|2023-01-29 10:18:55|       2| 94.19075344368622|         2|      Butter|   Meats|         22.66|BrandB|Description for B...|\n",
            "|       3488|        341|         2|2022-03-26 22:26:45|       4|  65.7818161254382|         2|      Butter|   Meats|         22.66|BrandB|Description for B...|\n",
            "|       1933|        186|         2|2023-03-02 04:36:17|       4| 69.73456128900739|         2|      Butter|   Meats|         22.66|BrandB|Description for B...|\n",
            "|       1671|        163|         2|2022-12-09 11:54:49|       4|  79.5618761872267|         2|      Butter|   Meats|         22.66|BrandB|Description for B...|\n",
            "|       9383|        917|         3|2023-04-08 08:18:09|       1| 9.187249320149997|         3|        Milk|   Meats|         26.52|BrandE|Description for B...|\n",
            "|       6461|        631|         3|2022-04-20 04:09:52|       4| 175.1307186287714|         3|        Milk|   Meats|         26.52|BrandE|Description for B...|\n",
            "|       5725|        562|         3|2023-09-28 07:48:00|       4| 150.5643205694028|         3|        Milk|   Meats|         26.52|BrandE|Description for B...|\n",
            "|       5608|        552|         3|2023-07-15 04:05:11|       5| 60.55229302868657|         3|        Milk|   Meats|         26.52|BrandE|Description for B...|\n",
            "|       4659|        460|         3|2023-06-01 22:29:10|       5| 95.78607606973569|         3|        Milk|   Meats|         26.52|BrandE|Description for B...|\n",
            "|       4103|        396|         3|2023-03-21 07:41:01|       3|10.280637778704648|         3|        Milk|   Meats|         26.52|BrandE|Description for B...|\n",
            "|       3864|        372|         3|2022-10-27 20:21:00|       1| 21.23098543877187|         3|        Milk|   Meats|         26.52|BrandE|Description for B...|\n",
            "|       1425|        139|         3|2022-09-19 21:12:39|       1|  49.1099649485485|         3|        Milk|   Meats|         26.52|BrandE|Description for B...|\n",
            "|       7361|        727|        10|2022-03-23 00:18:38|       1|40.041292945436666|        10|        Rice|   Meats|          4.13|BrandE|Description for C...|\n",
            "|       6983|        685|        10|2023-04-26 18:35:28|       5| 225.5281570771183|        10|        Rice|   Meats|          4.13|BrandE|Description for C...|\n",
            "|       6489|        635|        10|2022-08-09 19:18:01|       1|22.492283367894068|        10|        Rice|   Meats|          4.13|BrandE|Description for C...|\n",
            "|       4804|        474|        10|2023-03-11 15:32:40|       5| 66.02369536350865|        10|        Rice|   Meats|          4.13|BrandE|Description for C...|\n",
            "+-----------+-----------+----------+-------------------+--------+------------------+----------+------------+--------+--------------+------+--------------------+\n",
            "only showing top 20 rows\n",
            "\n"
          ]
        }
      ]
    },
    {
      "cell_type": "code",
      "source": [
        "purchase2_right_products2.count()"
      ],
      "metadata": {
        "colab": {
          "base_uri": "https://localhost:8080/"
        },
        "id": "wki5XECQMFdd",
        "outputId": "bfb33ef4-7e2a-4f75-f50b-201a47a5163e"
      },
      "execution_count": null,
      "outputs": [
        {
          "output_type": "execute_result",
          "data": {
            "text/plain": [
              "1320"
            ]
          },
          "metadata": {},
          "execution_count": 41
        }
      ]
    },
    {
      "cell_type": "markdown",
      "source": [
        "Coincidió con el número de elementos en el INNER JOIN porque todos los elementos de mi tabla derecha (products2) aparecían también en mi tabla izquierda (purchase2)"
      ],
      "metadata": {
        "id": "8Hn0I8yYMcUa"
      }
    },
    {
      "cell_type": "code",
      "source": [
        "purchase2_left_products2 = purchase2.join(products2, purchase.product_id == products2.product_id, how='left')\n",
        "purchase2_left_products2.show()"
      ],
      "metadata": {
        "colab": {
          "base_uri": "https://localhost:8080/"
        },
        "id": "hJW5ELLTMK3S",
        "outputId": "ea05a8e5-ceb1-492f-c3eb-0a6ab757c66c"
      },
      "execution_count": null,
      "outputs": [
        {
          "output_type": "stream",
          "name": "stdout",
          "text": [
            "+-----------+-----------+----------+-------------------+--------+------------------+----------+------------+--------+--------------+------+--------------------+\n",
            "|purchase_id|customer_id|product_id|      purchase_date|quantity|      total_amount|product_id|product_name|category|price_per_unit| brand| product_description|\n",
            "+-----------+-----------+----------+-------------------+--------+------------------+----------+------------+--------+--------------+------+--------------------+\n",
            "|          2|          1|       138|2022-07-10 23:33:47|       4| 70.24710587172727|      NULL|        NULL|    NULL|          NULL|  NULL|                NULL|\n",
            "|          7|          1|       192|2023-09-21 08:52:12|       5|201.98834253689253|       192|      Butter|   Meats|         26.46|BrandE|Description for P...|\n",
            "|          9|          2|       218|2023-11-03 08:21:19|       5|230.93891243311947|      NULL|        NULL|    NULL|          NULL|  NULL|                NULL|\n",
            "|         10|          2|       176|2022-12-30 01:32:06|       2| 41.32577291026815|      NULL|        NULL|    NULL|          NULL|  NULL|                NULL|\n",
            "|         11|          2|        14|2023-07-27 15:38:24|       1|49.407459133126494|      NULL|        NULL|    NULL|          NULL|  NULL|                NULL|\n",
            "|         12|          2|       444|2023-09-14 07:17:41|       2|39.661526868045016|      NULL|        NULL|    NULL|          NULL|  NULL|                NULL|\n",
            "|         14|          2|        55|2022-12-19 10:28:44|       1| 42.61748689307072|        55|       Apple|   Meats|         23.58|BrandD|Description for A...|\n",
            "|         16|          2|       107|2022-07-31 10:35:19|       3|11.311573271738684|      NULL|        NULL|    NULL|          NULL|  NULL|                NULL|\n",
            "|         17|          2|       415|2023-03-20 14:08:32|       2|  91.3159788324202|      NULL|        NULL|    NULL|          NULL|  NULL|                NULL|\n",
            "|         18|          2|       389|2022-11-01 10:16:21|       4| 182.2416562759003|      NULL|        NULL|    NULL|          NULL|  NULL|                NULL|\n",
            "|         19|          2|       123|2022-11-24 03:14:17|       4| 99.92195439364824|      NULL|        NULL|    NULL|          NULL|  NULL|                NULL|\n",
            "|         21|          3|        25|2022-09-05 09:27:41|       3|125.49925556355086|      NULL|        NULL|    NULL|          NULL|  NULL|                NULL|\n",
            "|         23|          3|       232|2023-01-09 00:52:25|       5|171.30018727097115|      NULL|        NULL|    NULL|          NULL|  NULL|                NULL|\n",
            "|         32|          3|       252|2022-11-12 00:46:24|       2| 4.122401442951305|      NULL|        NULL|    NULL|          NULL|  NULL|                NULL|\n",
            "|         35|          4|       305|2022-07-18 04:54:39|       1|14.453941727047198|       305|       Pasta|   Meats|          6.06|BrandD|Description for P...|\n",
            "|         37|          4|       378|2023-09-29 20:37:23|       1|43.529967498598836|      NULL|        NULL|    NULL|          NULL|  NULL|                NULL|\n",
            "|         44|          4|       199|2022-11-15 02:17:33|       4| 166.6255900137933|       199|       Pasta|   Meats|         26.53|BrandD|Description for C...|\n",
            "|         49|          4|       228|2022-12-18 23:56:51|       5| 42.19568574795653|      NULL|        NULL|    NULL|          NULL|  NULL|                NULL|\n",
            "|         55|          5|        21|2023-03-29 05:15:25|       5|148.58130396286822|      NULL|        NULL|    NULL|          NULL|  NULL|                NULL|\n",
            "|         59|          6|       226|2022-08-06 06:50:36|       5| 49.82904455063281|      NULL|        NULL|    NULL|          NULL|  NULL|                NULL|\n",
            "+-----------+-----------+----------+-------------------+--------+------------------+----------+------------+--------+--------------+------+--------------------+\n",
            "only showing top 20 rows\n",
            "\n"
          ]
        }
      ]
    },
    {
      "cell_type": "code",
      "source": [
        "purchase2_left_products2.count()"
      ],
      "metadata": {
        "colab": {
          "base_uri": "https://localhost:8080/"
        },
        "id": "M0H9Zj0XMSYr",
        "outputId": "3ba01ecf-ceaa-44a1-e78f-9271fb47b3ea"
      },
      "execution_count": null,
      "outputs": [
        {
          "output_type": "execute_result",
          "data": {
            "text/plain": [
              "4849"
            ]
          },
          "metadata": {},
          "execution_count": 43
        }
      ]
    },
    {
      "cell_type": "markdown",
      "source": [
        "### OUTER JOINS\n",
        "Mantienen todos los registros, independientemente de si coinciden o no.\n",
        "\n",
        "Estos, a su vez, pueden ser LEFT OUTER, RIGHT OUTER o FULL OUTER."
      ],
      "metadata": {
        "id": "5dAVtlRKNCPU"
      }
    },
    {
      "cell_type": "code",
      "source": [
        "purchase2_rightouter_products2 = purchase2.join(products2, purchase.product_id == products2.product_id, how='rightouter')\n",
        "\n",
        "purchase2_rightouter_products2.show()"
      ],
      "metadata": {
        "colab": {
          "base_uri": "https://localhost:8080/"
        },
        "id": "kc9E1UXxMZi7",
        "outputId": "0a7d37c5-df9f-43a5-8fff-d60e5e9d3111"
      },
      "execution_count": null,
      "outputs": [
        {
          "output_type": "stream",
          "name": "stdout",
          "text": [
            "+-----------+-----------+----------+-------------------+--------+------------------+----------+------------+--------+--------------+------+--------------------+\n",
            "|purchase_id|customer_id|product_id|      purchase_date|quantity|      total_amount|product_id|product_name|category|price_per_unit| brand| product_description|\n",
            "+-----------+-----------+----------+-------------------+--------+------------------+----------+------------+--------+--------------+------+--------------------+\n",
            "|       5799|        568|         2|2023-02-06 01:22:45|       5|140.47481851783164|         2|      Butter|   Meats|         22.66|BrandB|Description for B...|\n",
            "|       5724|        561|         2|2022-07-21 18:15:54|       1|44.977080921698125|         2|      Butter|   Meats|         22.66|BrandB|Description for B...|\n",
            "|       4249|        413|         2|2022-07-30 15:05:28|       5|165.27179735866832|         2|      Butter|   Meats|         22.66|BrandB|Description for B...|\n",
            "|       4069|        393|         2|2022-02-13 07:58:23|       5|168.04441175708135|         2|      Butter|   Meats|         22.66|BrandB|Description for B...|\n",
            "|       3963|        381|         2|2023-01-29 10:18:55|       2| 94.19075344368622|         2|      Butter|   Meats|         22.66|BrandB|Description for B...|\n",
            "|       3488|        341|         2|2022-03-26 22:26:45|       4|  65.7818161254382|         2|      Butter|   Meats|         22.66|BrandB|Description for B...|\n",
            "|       1933|        186|         2|2023-03-02 04:36:17|       4| 69.73456128900739|         2|      Butter|   Meats|         22.66|BrandB|Description for B...|\n",
            "|       1671|        163|         2|2022-12-09 11:54:49|       4|  79.5618761872267|         2|      Butter|   Meats|         22.66|BrandB|Description for B...|\n",
            "|       9383|        917|         3|2023-04-08 08:18:09|       1| 9.187249320149997|         3|        Milk|   Meats|         26.52|BrandE|Description for B...|\n",
            "|       6461|        631|         3|2022-04-20 04:09:52|       4| 175.1307186287714|         3|        Milk|   Meats|         26.52|BrandE|Description for B...|\n",
            "|       5725|        562|         3|2023-09-28 07:48:00|       4| 150.5643205694028|         3|        Milk|   Meats|         26.52|BrandE|Description for B...|\n",
            "|       5608|        552|         3|2023-07-15 04:05:11|       5| 60.55229302868657|         3|        Milk|   Meats|         26.52|BrandE|Description for B...|\n",
            "|       4659|        460|         3|2023-06-01 22:29:10|       5| 95.78607606973569|         3|        Milk|   Meats|         26.52|BrandE|Description for B...|\n",
            "|       4103|        396|         3|2023-03-21 07:41:01|       3|10.280637778704648|         3|        Milk|   Meats|         26.52|BrandE|Description for B...|\n",
            "|       3864|        372|         3|2022-10-27 20:21:00|       1| 21.23098543877187|         3|        Milk|   Meats|         26.52|BrandE|Description for B...|\n",
            "|       1425|        139|         3|2022-09-19 21:12:39|       1|  49.1099649485485|         3|        Milk|   Meats|         26.52|BrandE|Description for B...|\n",
            "|       7361|        727|        10|2022-03-23 00:18:38|       1|40.041292945436666|        10|        Rice|   Meats|          4.13|BrandE|Description for C...|\n",
            "|       6983|        685|        10|2023-04-26 18:35:28|       5| 225.5281570771183|        10|        Rice|   Meats|          4.13|BrandE|Description for C...|\n",
            "|       6489|        635|        10|2022-08-09 19:18:01|       1|22.492283367894068|        10|        Rice|   Meats|          4.13|BrandE|Description for C...|\n",
            "|       4804|        474|        10|2023-03-11 15:32:40|       5| 66.02369536350865|        10|        Rice|   Meats|          4.13|BrandE|Description for C...|\n",
            "+-----------+-----------+----------+-------------------+--------+------------------+----------+------------+--------+--------------+------+--------------------+\n",
            "only showing top 20 rows\n",
            "\n"
          ]
        }
      ]
    },
    {
      "cell_type": "code",
      "source": [
        "purchase2_rightouter_products2.count()"
      ],
      "metadata": {
        "colab": {
          "base_uri": "https://localhost:8080/"
        },
        "id": "IeJSNegcNpcx",
        "outputId": "7d147a02-9ef2-4e96-aedf-a4dfae2e0dfc"
      },
      "execution_count": null,
      "outputs": [
        {
          "output_type": "execute_result",
          "data": {
            "text/plain": [
              "1320"
            ]
          },
          "metadata": {},
          "execution_count": 45
        }
      ]
    },
    {
      "cell_type": "code",
      "source": [
        "purchase2_fullouter_products2 = purchase2.join(products2, purchase.product_id == products2.product_id, how='fullouter')\n",
        "\n",
        "purchase2_fullouter_products2.show()"
      ],
      "metadata": {
        "colab": {
          "base_uri": "https://localhost:8080/"
        },
        "id": "CzMDvjDrNtti",
        "outputId": "619d5aea-8956-4f33-eae1-2722ecd12035"
      },
      "execution_count": null,
      "outputs": [
        {
          "output_type": "stream",
          "name": "stdout",
          "text": [
            "+-----------+-----------+----------+-------------------+--------+------------------+----------+------------+--------+--------------+------+--------------------+\n",
            "|purchase_id|customer_id|product_id|      purchase_date|quantity|      total_amount|product_id|product_name|category|price_per_unit| brand| product_description|\n",
            "+-----------+-----------+----------+-------------------+--------+------------------+----------+------------+--------+--------------+------+--------------------+\n",
            "|        905|         87|         1|2022-08-02 05:58:01|       2| 90.00597143593103|      NULL|        NULL|    NULL|          NULL|  NULL|                NULL|\n",
            "|       1783|        173|         1|2023-02-21 15:18:31|       2|35.442343007734145|      NULL|        NULL|    NULL|          NULL|  NULL|                NULL|\n",
            "|       6676|        656|         1|2022-05-07 02:42:26|       5|192.64166873691394|      NULL|        NULL|    NULL|          NULL|  NULL|                NULL|\n",
            "|       6986|        685|         1|2023-10-07 06:56:34|       3|107.36754438115969|      NULL|        NULL|    NULL|          NULL|  NULL|                NULL|\n",
            "|       7404|        731|         1|2023-03-19 08:23:39|       4| 7.757890423014958|      NULL|        NULL|    NULL|          NULL|  NULL|                NULL|\n",
            "|       8548|        838|         1|2023-05-18 19:58:14|       5|166.08238407852525|      NULL|        NULL|    NULL|          NULL|  NULL|                NULL|\n",
            "|        261|         26|        10|2022-10-14 14:18:33|       3|133.94526445326647|        10|        Rice|   Meats|          4.13|BrandE|Description for C...|\n",
            "|       1682|        164|        10|2022-11-20 11:12:39|       2| 65.68936678436907|        10|        Rice|   Meats|          4.13|BrandE|Description for C...|\n",
            "|       1742|        169|        10|2023-03-14 00:19:11|       5| 216.0191276515096|        10|        Rice|   Meats|          4.13|BrandE|Description for C...|\n",
            "|       1802|        175|        10|2023-07-13 13:29:00|       1|10.159652716645613|        10|        Rice|   Meats|          4.13|BrandE|Description for C...|\n",
            "|       2188|        209|        10|2022-06-18 11:42:20|       1|22.773956567610714|        10|        Rice|   Meats|          4.13|BrandE|Description for C...|\n",
            "|       2320|        221|        10|2022-12-06 05:46:09|       5| 53.46839171232793|        10|        Rice|   Meats|          4.13|BrandE|Description for C...|\n",
            "|       2615|        250|        10|2023-04-06 10:57:20|       1| 29.73712188601835|        10|        Rice|   Meats|          4.13|BrandE|Description for C...|\n",
            "|       3078|        301|        10|2023-01-29 16:06:20|       3|148.85077340207712|        10|        Rice|   Meats|          4.13|BrandE|Description for C...|\n",
            "|       4323|        418|        10|2023-07-13 13:54:04|       3|  99.7784848900392|        10|        Rice|   Meats|          4.13|BrandE|Description for C...|\n",
            "|       4664|        460|        10|2023-02-01 03:08:30|       5|161.60912301905194|        10|        Rice|   Meats|          4.13|BrandE|Description for C...|\n",
            "|       4673|        461|        10|2022-04-15 07:51:01|       2| 83.74238457090672|        10|        Rice|   Meats|          4.13|BrandE|Description for C...|\n",
            "|       4804|        474|        10|2023-03-11 15:32:40|       5| 66.02369536350865|        10|        Rice|   Meats|          4.13|BrandE|Description for C...|\n",
            "|       6489|        635|        10|2022-08-09 19:18:01|       1|22.492283367894068|        10|        Rice|   Meats|          4.13|BrandE|Description for C...|\n",
            "|       6983|        685|        10|2023-04-26 18:35:28|       5| 225.5281570771183|        10|        Rice|   Meats|          4.13|BrandE|Description for C...|\n",
            "+-----------+-----------+----------+-------------------+--------+------------------+----------+------------+--------+--------------+------+--------------------+\n",
            "only showing top 20 rows\n",
            "\n"
          ]
        }
      ]
    },
    {
      "cell_type": "code",
      "source": [
        "purchase2_fullouter_products2.count()"
      ],
      "metadata": {
        "colab": {
          "base_uri": "https://localhost:8080/"
        },
        "id": "I-NF7RqAOCly",
        "outputId": "d223e030-8a73-4639-a4fd-3ce720dbdb45"
      },
      "execution_count": null,
      "outputs": [
        {
          "output_type": "execute_result",
          "data": {
            "text/plain": [
              "4849"
            ]
          },
          "metadata": {},
          "execution_count": 47
        }
      ]
    },
    {
      "cell_type": "markdown",
      "source": [
        "Ejercicios; contesta desarrollando el correspondiente código en Pyspark:\n",
        "\n",
        "1. Responde, ¿cuántos clientes llamados \"Robert\" (nota cómo hay *Males* y *Females*), compraron algún producto lácteo (Dairy) en 2022 ?\n",
        "\n",
        "2. Eres empleado de *BrandB*. ¿En cuáles ciudades has vendido una mayor cantidad? (total_amount)\n",
        "\n",
        "3. ¿De cuánto es la mayor cantidad (quantity) que ha sido comprado por algún hombre O cuyo producto sea pan (Bread)?"
      ],
      "metadata": {
        "id": "NE8CLqxoOGip"
      }
    },
    {
      "cell_type": "code",
      "source": [
        "# Filtrar\n",
        "robert_customers = customer.filter(col(\"first_name\") == \"Robert\")\n",
        "\n",
        "dairy_products = products.filter(col(\"category\") == \"Dairy\")\n",
        "\n",
        "purchase_2022 = purchase.withColumn('purchase_date', to_timestamp(col('purchase_date'), 'yyyy-MM-dd HH:mm:ss'))\\\n",
        "                        .filter(col(\"purchase_date\").between(\"2022-01-01\", \"2022-12-31\"))\n",
        "\n",
        "robert_dairy_purchases = purchase_2022.join(robert_customers, \"customer_id\")\\\n",
        "                                      .join(dairy_products, \"product_id\")\n",
        "# Contar\n",
        "count_robert_dairy_purchases = robert_dairy_purchases.count()\n",
        "print(count_robert_dairy_purchases)"
      ],
      "metadata": {
        "colab": {
          "base_uri": "https://localhost:8080/"
        },
        "id": "SUGtaAkSOp7U",
        "outputId": "cff132ae-8d9c-42bc-bcd4-0cc985605bc6"
      },
      "execution_count": null,
      "outputs": [
        {
          "output_type": "stream",
          "name": "stdout",
          "text": [
            "44\n"
          ]
        }
      ]
    },
    {
      "cell_type": "code",
      "source": [
        "from pyspark.sql.functions import sum, col\n",
        "\n",
        "# Filtrar\n",
        "brand_b_products = products.filter(col(\"brand\") == \"BrandB\")\n",
        "\n",
        "# Unir\n",
        "brand_b_sales = purchase.join(brand_b_products, \"product_id\")\\\n",
        "                        .join(customer, \"customer_id\")\\\n",
        "                        .groupBy(\"city\")\\\n",
        "                        .agg(sum(col(\"quantity\").cast(\"int\")).alias(\"total_amount\")) # Cast 'quantity' to IntegerType before summing\n",
        "\n",
        "# Ordenar y mostrar\n",
        "brand_b_sales.orderBy(col(\"total_amount\").desc()).show()"
      ],
      "metadata": {
        "colab": {
          "base_uri": "https://localhost:8080/"
        },
        "id": "2V5osxAPP1hm",
        "outputId": "f3ffe5a9-af53-47c4-db5c-d6cc53717cc4"
      },
      "execution_count": null,
      "outputs": [
        {
          "output_type": "stream",
          "name": "stdout",
          "text": [
            "+------------+------------+\n",
            "|        city|total_amount|\n",
            "+------------+------------+\n",
            "|     Chicago|        1196|\n",
            "|     Phoenix|        1145|\n",
            "|     Houston|        1131|\n",
            "|    New York|        1076|\n",
            "|Philadelphia|        1002|\n",
            "| Los Angeles|         924|\n",
            "| San Antonio|         920|\n",
            "+------------+------------+\n",
            "\n"
          ]
        }
      ]
    },
    {
      "cell_type": "code",
      "source": [
        "# Filtrar\n",
        "male_customers = customer.filter(col(\"gender\") == \"Male\")\n",
        "\n",
        "bread_products = products.filter(col(\"category\") == \"Bread\")\n",
        "\n",
        "male_or_bread_purchases = purchase.join(male_customers, \"customer_id\", how=\"left\")\\\n",
        "                                  .join(bread_products, \"product_id\", how=\"left\")\\\n",
        "                                  .filter((col(\"gender\") == \"Male\") | (col(\"category\") == \"Bread\"))\n",
        "\n",
        "# Mostrar\n",
        "max_quantity = male_or_bread_purchases.agg({\"quantity\": \"max\"}).collect()[0][0]\n",
        "print(max_quantity)"
      ],
      "metadata": {
        "colab": {
          "base_uri": "https://localhost:8080/"
        },
        "id": "SuincAOTP6ik",
        "outputId": "7eb5db7e-6272-4534-fe5e-d1650fa7bde0"
      },
      "execution_count": null,
      "outputs": [
        {
          "output_type": "stream",
          "name": "stdout",
          "text": [
            "5\n"
          ]
        }
      ]
    },
    {
      "cell_type": "code",
      "source": [],
      "metadata": {
        "id": "w1-0CWFMKMod"
      },
      "execution_count": null,
      "outputs": []
    }
  ],
  "metadata": {
    "colab": {
      "provenance": []
    },
    "kernelspec": {
      "display_name": "Python 3",
      "name": "python3"
    },
    "language_info": {
      "name": "python"
    }
  },
  "nbformat": 4,
  "nbformat_minor": 0
}